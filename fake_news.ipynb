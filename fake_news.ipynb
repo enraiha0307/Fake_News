{
  "nbformat": 4,
  "nbformat_minor": 0,
  "metadata": {
    "colab": {
      "name": "Copy of major project fake news.ipynb",
      "provenance": [],
      "collapsed_sections": []
    },
    "kernelspec": {
      "name": "python3",
      "display_name": "Python 3"
    }
  },
  "cells": [
    {
      "cell_type": "code",
      "metadata": {
        "id": "BbGCPLpFBqFK",
        "colab_type": "code",
        "colab": {}
      },
      "source": [
        "import pandas as pd\n"
      ],
      "execution_count": 0,
      "outputs": []
    },
    {
      "cell_type": "code",
      "metadata": {
        "id": "L0RByvymSIgb",
        "colab_type": "code",
        "outputId": "1257f1d5-647b-43dc-907c-30c100b47b62",
        "colab": {
          "base_uri": "https://localhost:8080/",
          "height": 67
        }
      },
      "source": [
        "import nltk\n",
        "nltk.download('stopwords')"
      ],
      "execution_count": 0,
      "outputs": [
        {
          "output_type": "stream",
          "text": [
            "[nltk_data] Downloading package stopwords to /root/nltk_data...\n",
            "[nltk_data]   Unzipping corpora/stopwords.zip.\n"
          ],
          "name": "stdout"
        },
        {
          "output_type": "execute_result",
          "data": {
            "text/plain": [
              "True"
            ]
          },
          "metadata": {
            "tags": []
          },
          "execution_count": 3
        }
      ]
    },
    {
      "cell_type": "code",
      "metadata": {
        "id": "QwXVMRz_R9r3",
        "colab_type": "code",
        "outputId": "b1c848d4-65c4-4faf-accc-110115215a8d",
        "colab": {
          "base_uri": "https://localhost:8080/",
          "height": 251
        }
      },
      "source": [
        "pip install scikit-plot"
      ],
      "execution_count": 0,
      "outputs": [
        {
          "output_type": "stream",
          "text": [
            "Collecting scikit-plot\n",
            "  Downloading https://files.pythonhosted.org/packages/7c/47/32520e259340c140a4ad27c1b97050dd3254fdc517b1d59974d47037510e/scikit_plot-0.3.7-py3-none-any.whl\n",
            "Requirement already satisfied: scikit-learn>=0.18 in /usr/local/lib/python3.6/dist-packages (from scikit-plot) (0.22.2.post1)\n",
            "Requirement already satisfied: scipy>=0.9 in /usr/local/lib/python3.6/dist-packages (from scikit-plot) (1.4.1)\n",
            "Requirement already satisfied: joblib>=0.10 in /usr/local/lib/python3.6/dist-packages (from scikit-plot) (0.15.1)\n",
            "Requirement already satisfied: matplotlib>=1.4.0 in /usr/local/lib/python3.6/dist-packages (from scikit-plot) (3.2.1)\n",
            "Requirement already satisfied: numpy>=1.11.0 in /usr/local/lib/python3.6/dist-packages (from scikit-learn>=0.18->scikit-plot) (1.18.4)\n",
            "Requirement already satisfied: python-dateutil>=2.1 in /usr/local/lib/python3.6/dist-packages (from matplotlib>=1.4.0->scikit-plot) (2.8.1)\n",
            "Requirement already satisfied: kiwisolver>=1.0.1 in /usr/local/lib/python3.6/dist-packages (from matplotlib>=1.4.0->scikit-plot) (1.2.0)\n",
            "Requirement already satisfied: pyparsing!=2.0.4,!=2.1.2,!=2.1.6,>=2.0.1 in /usr/local/lib/python3.6/dist-packages (from matplotlib>=1.4.0->scikit-plot) (2.4.7)\n",
            "Requirement already satisfied: cycler>=0.10 in /usr/local/lib/python3.6/dist-packages (from matplotlib>=1.4.0->scikit-plot) (0.10.0)\n",
            "Requirement already satisfied: six>=1.5 in /usr/local/lib/python3.6/dist-packages (from python-dateutil>=2.1->matplotlib>=1.4.0->scikit-plot) (1.12.0)\n",
            "Installing collected packages: scikit-plot\n",
            "Successfully installed scikit-plot-0.3.7\n"
          ],
          "name": "stdout"
        }
      ]
    },
    {
      "cell_type": "code",
      "metadata": {
        "id": "H91R0DOFBTcz",
        "colab_type": "code",
        "outputId": "8f0a94e9-e13f-4769-84e2-131416ab258a",
        "colab": {
          "base_uri": "https://localhost:8080/",
          "height": 120
        }
      },
      "source": [
        "from google.colab import drive\n",
        "drive.mount('/content/drive')\n"
      ],
      "execution_count": 0,
      "outputs": [
        {
          "output_type": "stream",
          "text": [
            "Go to this URL in a browser: https://accounts.google.com/o/oauth2/auth?client_id=947318989803-6bn6qk8qdgf4n4g3pfee6491hc0brc4i.apps.googleusercontent.com&redirect_uri=urn%3aietf%3awg%3aoauth%3a2.0%3aoob&response_type=code&scope=email%20https%3a%2f%2fwww.googleapis.com%2fauth%2fdocs.test%20https%3a%2f%2fwww.googleapis.com%2fauth%2fdrive%20https%3a%2f%2fwww.googleapis.com%2fauth%2fdrive.photos.readonly%20https%3a%2f%2fwww.googleapis.com%2fauth%2fpeopleapi.readonly\n",
            "\n",
            "Enter your authorization code:\n",
            "··········\n",
            "Mounted at /content/drive\n"
          ],
          "name": "stdout"
        }
      ]
    },
    {
      "cell_type": "code",
      "metadata": {
        "id": "BgWZywDwDM-l",
        "colab_type": "code",
        "colab": {}
      },
      "source": [
        "path = '/content/drive/My Drive/'\n",
        "data=pd.read_csv(path+\"train.csv\")"
      ],
      "execution_count": 0,
      "outputs": []
    },
    {
      "cell_type": "code",
      "metadata": {
        "id": "wvYem68ARdx5",
        "colab_type": "code",
        "outputId": "a2432b1e-39e8-4104-bb6a-7b149a446063",
        "colab": {
          "base_uri": "https://localhost:8080/",
          "height": 196
        }
      },
      "source": [
        "data.head()"
      ],
      "execution_count": 0,
      "outputs": [
        {
          "output_type": "execute_result",
          "data": {
            "text/html": [
              "<div>\n",
              "<style scoped>\n",
              "    .dataframe tbody tr th:only-of-type {\n",
              "        vertical-align: middle;\n",
              "    }\n",
              "\n",
              "    .dataframe tbody tr th {\n",
              "        vertical-align: top;\n",
              "    }\n",
              "\n",
              "    .dataframe thead th {\n",
              "        text-align: right;\n",
              "    }\n",
              "</style>\n",
              "<table border=\"1\" class=\"dataframe\">\n",
              "  <thead>\n",
              "    <tr style=\"text-align: right;\">\n",
              "      <th></th>\n",
              "      <th>id</th>\n",
              "      <th>title</th>\n",
              "      <th>author</th>\n",
              "      <th>text</th>\n",
              "      <th>label</th>\n",
              "    </tr>\n",
              "  </thead>\n",
              "  <tbody>\n",
              "    <tr>\n",
              "      <th>0</th>\n",
              "      <td>0</td>\n",
              "      <td>House Dem Aide: We Didn’t Even See Comey’s Let...</td>\n",
              "      <td>Darrell Lucus</td>\n",
              "      <td>House Dem Aide: We Didn’t Even See Comey’s Let...</td>\n",
              "      <td>1</td>\n",
              "    </tr>\n",
              "    <tr>\n",
              "      <th>1</th>\n",
              "      <td>1</td>\n",
              "      <td>FLYNN: Hillary Clinton, Big Woman on Campus - ...</td>\n",
              "      <td>Daniel J. Flynn</td>\n",
              "      <td>Ever get the feeling your life circles the rou...</td>\n",
              "      <td>0</td>\n",
              "    </tr>\n",
              "    <tr>\n",
              "      <th>2</th>\n",
              "      <td>2</td>\n",
              "      <td>Why the Truth Might Get You Fired</td>\n",
              "      <td>Consortiumnews.com</td>\n",
              "      <td>Why the Truth Might Get You Fired October 29, ...</td>\n",
              "      <td>1</td>\n",
              "    </tr>\n",
              "    <tr>\n",
              "      <th>3</th>\n",
              "      <td>3</td>\n",
              "      <td>15 Civilians Killed In Single US Airstrike Hav...</td>\n",
              "      <td>Jessica Purkiss</td>\n",
              "      <td>Videos 15 Civilians Killed In Single US Airstr...</td>\n",
              "      <td>1</td>\n",
              "    </tr>\n",
              "    <tr>\n",
              "      <th>4</th>\n",
              "      <td>4</td>\n",
              "      <td>Iranian woman jailed for fictional unpublished...</td>\n",
              "      <td>Howard Portnoy</td>\n",
              "      <td>Print \\nAn Iranian woman has been sentenced to...</td>\n",
              "      <td>1</td>\n",
              "    </tr>\n",
              "  </tbody>\n",
              "</table>\n",
              "</div>"
            ],
            "text/plain": [
              "   id  ... label\n",
              "0   0  ...     1\n",
              "1   1  ...     0\n",
              "2   2  ...     1\n",
              "3   3  ...     1\n",
              "4   4  ...     1\n",
              "\n",
              "[5 rows x 5 columns]"
            ]
          },
          "metadata": {
            "tags": []
          },
          "execution_count": 7
        }
      ]
    },
    {
      "cell_type": "code",
      "metadata": {
        "id": "rQGPKercRnjS",
        "colab_type": "code",
        "colab": {}
      },
      "source": [
        "import numpy as np\n",
        "import re\n",
        "import string\n",
        "import pandas as pd\n",
        "from gensim.models import Doc2Vec\n",
        "from gensim.models.doc2vec import LabeledSentence\n",
        "from gensim import utils\n",
        "from nltk.corpus import stopwords\n",
        "\n",
        "\n",
        "def textClean(text):\n",
        "    text = re.sub(r\"[^A-Za-z0-9^,!.\\/'+-=]\", \" \", str(text))\n",
        "    text = text.lower().split()\n",
        "    stops = set(stopwords.words(\"english\"))\n",
        "    text = [w for w in text if not w in stops]\n",
        "    text = \" \".join(text)\n",
        "    return (text)\n",
        "\n",
        "\n",
        "def cleanup(text):\n",
        "    text = textClean(text)\n",
        "    text = text.translate(str.maketrans(\"\", \"\", string.punctuation))\n",
        "    return text\n",
        "\n",
        "\n",
        "def constructLabeledSentences(data):\n",
        "    sentences = []\n",
        "    for index, row in data.iteritems():\n",
        "        sentences.append(LabeledSentence(utils.to_unicode(row).split(), ['Text' + '_%s' % str(index)]))\n",
        "    return sentences\n",
        "\n",
        "\n",
        "def getEmbeddings(path,vector_dimension=300,):\n",
        "    data = pd.read_csv(path+\"train.csv\")\n",
        "    print(\"*\")\n",
        "\n",
        "    missing_rows = []\n",
        "    for i in range(len(data)):\n",
        "        if data.loc[i, 'text'] != data.loc[i, 'text']:\n",
        "            missing_rows.append(i)\n",
        "    data = data.drop(missing_rows).reset_index().drop(['index','id'],axis=1)\n",
        "    \n",
        "\n",
        "    for i in range(len(data)):\n",
        "        data.loc[i, 'text'] = cleanup(data.loc[i,'text'])\n",
        "\n",
        "    x = constructLabeledSentences(data['text'])\n",
        "    y = data['label'].values\n",
        "\n",
        "    text_model = Doc2Vec(min_count=1, window=5, vector_size=vector_dimension, sample=1e-4, negative=5, workers=7, epochs=10,\n",
        "                         seed=1)\n",
        "    text_model.build_vocab(x)\n",
        "    text_model.train(x, total_examples=text_model.corpus_count, epochs=text_model.iter)\n",
        "\n",
        "    train_size = int(0.8 * len(x))\n",
        "    test_size = len(x) - train_size\n",
        "\n",
        "    text_train_arrays = np.zeros((train_size, vector_dimension))\n",
        "    text_test_arrays = np.zeros((test_size, vector_dimension))\n",
        "    train_labels = np.zeros(train_size)\n",
        "    test_labels = np.zeros(test_size)\n",
        "\n",
        "    for i in range(train_size):\n",
        "        text_train_arrays[i] = text_model.docvecs['Text_' + str(i)]\n",
        "        train_labels[i] = y[i]\n",
        "\n",
        "    j = 0\n",
        "    for i in range(train_size, train_size + test_size):\n",
        "        text_test_arrays[j] = text_model.docvecs['Text_' + str(i)]\n",
        "        test_labels[j] = y[i]\n",
        "        j = j + 1\n",
        "\n",
        "    return text_train_arrays, text_test_arrays, train_labels, test_labels"
      ],
      "execution_count": 0,
      "outputs": []
    },
    {
      "cell_type": "code",
      "metadata": {
        "id": "k_6gBb1U9HsT",
        "colab_type": "code",
        "outputId": "cd01c525-6b7d-4a94-d657-fc98c6126e0a",
        "colab": {
          "base_uri": "https://localhost:8080/",
          "height": 161
        }
      },
      "source": [
        ""
      ],
      "execution_count": 0,
      "outputs": [
        {
          "output_type": "error",
          "ename": "NameError",
          "evalue": "ignored",
          "traceback": [
            "\u001b[0;31m---------------------------------------------------------------------------\u001b[0m",
            "\u001b[0;31mNameError\u001b[0m                                 Traceback (most recent call last)",
            "\u001b[0;32m<ipython-input-9-cd96b2b0a5b2>\u001b[0m in \u001b[0;36m<module>\u001b[0;34m()\u001b[0m\n\u001b[0;32m----> 1\u001b[0;31m \u001b[0mprint\u001b[0m\u001b[0;34m(\u001b[0m\u001b[0mtext_train_arrays\u001b[0m\u001b[0;34m,\u001b[0m \u001b[0mtext_test_arrays\u001b[0m\u001b[0;34m,\u001b[0m \u001b[0mtrain_labels\u001b[0m\u001b[0;34m,\u001b[0m \u001b[0mtest_labels\u001b[0m\u001b[0;34m)\u001b[0m\u001b[0;34m\u001b[0m\u001b[0;34m\u001b[0m\u001b[0m\n\u001b[0m",
            "\u001b[0;31mNameError\u001b[0m: name 'text_train_arrays' is not defined"
          ]
        }
      ]
    },
    {
      "cell_type": "code",
      "metadata": {
        "id": "0M1QuAZJR1au",
        "colab_type": "code",
        "outputId": "dc8a7219-1e4e-48a3-edc0-10e1e5e3fc1a",
        "colab": {
          "base_uri": "https://localhost:8080/",
          "height": 1000
        }
      },
      "source": [
        "import matplotlib.pyplot as plt\n",
        "import numpy as np\n",
        "import keras\n",
        "from keras import backend as K\n",
        "from keras.utils import np_utils\n",
        "from keras.models import Sequential\n",
        "from keras.layers import Dense, Dropout, LSTM, Embedding, Input, RepeatVector\n",
        "from keras.optimizers import SGD\n",
        "from sklearn.preprocessing import LabelEncoder\n",
        "from sklearn.model_selection import train_test_split\n",
        "import scikitplot.plotters as skplt\n",
        "\n",
        "\n",
        "def plot_cmat(yte, ypred):\n",
        "    '''Plotting confusion matrix'''\n",
        "    skplt.plot_confusion_matrix(yte, ypred)\n",
        "    plt.show()\n",
        "\n",
        "\n",
        "xtr,xte,ytr,yte = getEmbeddings(path)\n",
        "np.save('./xtr', xtr)\n",
        "np.save('./xte', xte)\n",
        "np.save('./ytr', ytr)\n",
        "np.save('./yte', yte)\n",
        "\n",
        "xtr = np.load('./xtr.npy')\n",
        "xte = np.load('./xte.npy')\n",
        "ytr = np.load('./ytr.npy')\n",
        "yte = np.load('./yte.npy')\n",
        "\n",
        "\n",
        "def baseline_model():\n",
        "    '''Neural network with 3 hidden layers'''\n",
        "    model = Sequential()\n",
        "    model.add(Dense(256, input_dim=300, activation='relu', kernel_initializer='normal'))\n",
        "    model.add(Dropout(0.3))\n",
        "    model.add(Dense(256, activation='relu', kernel_initializer='normal'))\n",
        "    model.add(Dropout(0.5))\n",
        "    model.add(Dense(80, activation='relu', kernel_initializer='normal'))\n",
        "    model.add(Dense(2, activation=\"softmax\", kernel_initializer='normal'))\n",
        "\n",
        "    # gradient descent\n",
        "    sgd = SGD(lr=0.01, decay=1e-6, momentum=0.9, nesterov=True)\n",
        "    \n",
        "    # configure the learning process of the model\n",
        "    model.compile(loss='categorical_crossentropy', optimizer=sgd, metrics=['accuracy'])\n",
        "    return model\n",
        "\n",
        "\n",
        "model = baseline_model()\n",
        "model.summary()\n",
        "x_train, x_test, y_train, y_test = train_test_split(xtr, ytr, test_size=0.2, random_state=42)\n",
        "label_encoder = LabelEncoder()\n",
        "label_encoder.fit(y_train)\n",
        "encoded_y = np_utils.to_categorical((label_encoder.transform(y_train)))\n",
        "label_encoder.fit(y_test)\n",
        "encoded_y_test = np_utils.to_categorical((label_encoder.transform(y_test)))\n",
        "estimator = model.fit(x_train, encoded_y, epochs=20, batch_size=64)\n",
        "print(\"Model Trained!\")\n",
        "score = model.evaluate(x_test, encoded_y_test)\n",
        "print(\"\")\n",
        "print(\"Accuracy = \" + format(score[1]*100, '.2f') + \"%\")   # 92.69%\n",
        "\n",
        "probabs = model.predict_proba(x_test)\n",
        "y_pred = np.argmax(probabs, axis=1)\n",
        " \n",
        "plot_cmat(y_test, y_pred)"
      ],
      "execution_count": 0,
      "outputs": [
        {
          "output_type": "stream",
          "text": [
            "Using TensorFlow backend.\n"
          ],
          "name": "stderr"
        },
        {
          "output_type": "stream",
          "text": [
            "*\n",
            "ah\n"
          ],
          "name": "stdout"
        },
        {
          "output_type": "stream",
          "text": [
            "/usr/local/lib/python3.6/dist-packages/ipykernel_launcher.py:29: DeprecationWarning: Call to deprecated `LabeledSentence` (Class will be removed in 4.0.0, use TaggedDocument instead).\n",
            "/usr/local/lib/python3.6/dist-packages/ipykernel_launcher.py:53: DeprecationWarning: Call to deprecated `iter` (Attribute will be removed in 4.0.0, use self.epochs instead).\n"
          ],
          "name": "stderr"
        },
        {
          "output_type": "stream",
          "text": [
            "Model: \"sequential_1\"\n",
            "_________________________________________________________________\n",
            "Layer (type)                 Output Shape              Param #   \n",
            "=================================================================\n",
            "dense_1 (Dense)              (None, 256)               77056     \n",
            "_________________________________________________________________\n",
            "dropout_1 (Dropout)          (None, 256)               0         \n",
            "_________________________________________________________________\n",
            "dense_2 (Dense)              (None, 256)               65792     \n",
            "_________________________________________________________________\n",
            "dropout_2 (Dropout)          (None, 256)               0         \n",
            "_________________________________________________________________\n",
            "dense_3 (Dense)              (None, 80)                20560     \n",
            "_________________________________________________________________\n",
            "dense_4 (Dense)              (None, 2)                 162       \n",
            "=================================================================\n",
            "Total params: 163,570\n",
            "Trainable params: 163,570\n",
            "Non-trainable params: 0\n",
            "_________________________________________________________________\n",
            "Epoch 1/20\n",
            "13286/13286 [==============================] - 1s 89us/step - loss: 0.5083 - accuracy: 0.7735\n",
            "Epoch 2/20\n",
            "13286/13286 [==============================] - 1s 74us/step - loss: 0.2910 - accuracy: 0.8818\n",
            "Epoch 3/20\n",
            "13286/13286 [==============================] - 1s 74us/step - loss: 0.2529 - accuracy: 0.8994\n",
            "Epoch 4/20\n",
            "13286/13286 [==============================] - 1s 76us/step - loss: 0.2351 - accuracy: 0.9047\n",
            "Epoch 5/20\n",
            "13286/13286 [==============================] - 1s 76us/step - loss: 0.2202 - accuracy: 0.9128\n",
            "Epoch 6/20\n",
            "13286/13286 [==============================] - 1s 74us/step - loss: 0.2118 - accuracy: 0.9168\n",
            "Epoch 7/20\n",
            "13286/13286 [==============================] - 1s 72us/step - loss: 0.2023 - accuracy: 0.9199\n",
            "Epoch 8/20\n",
            "13286/13286 [==============================] - 1s 72us/step - loss: 0.1888 - accuracy: 0.9286\n",
            "Epoch 9/20\n",
            "13286/13286 [==============================] - 1s 70us/step - loss: 0.1830 - accuracy: 0.9287\n",
            "Epoch 10/20\n",
            "13286/13286 [==============================] - 1s 70us/step - loss: 0.1774 - accuracy: 0.9310\n",
            "Epoch 11/20\n",
            "13286/13286 [==============================] - 1s 70us/step - loss: 0.1701 - accuracy: 0.9348\n",
            "Epoch 12/20\n",
            "13286/13286 [==============================] - 1s 70us/step - loss: 0.1636 - accuracy: 0.9372\n",
            "Epoch 13/20\n",
            "13286/13286 [==============================] - 1s 70us/step - loss: 0.1556 - accuracy: 0.9402\n",
            "Epoch 14/20\n",
            "13286/13286 [==============================] - 1s 70us/step - loss: 0.1501 - accuracy: 0.9439\n",
            "Epoch 15/20\n",
            "13286/13286 [==============================] - 1s 73us/step - loss: 0.1456 - accuracy: 0.9445\n",
            "Epoch 16/20\n",
            "13286/13286 [==============================] - 1s 70us/step - loss: 0.1421 - accuracy: 0.9470\n",
            "Epoch 17/20\n",
            "13286/13286 [==============================] - 1s 69us/step - loss: 0.1365 - accuracy: 0.9472\n",
            "Epoch 18/20\n",
            "13286/13286 [==============================] - 1s 70us/step - loss: 0.1323 - accuracy: 0.9507\n",
            "Epoch 19/20\n",
            "13286/13286 [==============================] - 1s 69us/step - loss: 0.1293 - accuracy: 0.9502\n",
            "Epoch 20/20\n",
            "13286/13286 [==============================] - 1s 69us/step - loss: 0.1221 - accuracy: 0.9543\n",
            "Model Trained!\n",
            "3322/3322 [==============================] - 0s 37us/step\n",
            "\n",
            "Accuracy = 92.66%\n"
          ],
          "name": "stdout"
        },
        {
          "output_type": "stream",
          "text": [
            "/usr/local/lib/python3.6/dist-packages/sklearn/utils/deprecation.py:87: FutureWarning: Function plot_confusion_matrix is deprecated; This will be removed in v0.4.0. Please use scikitplot.metrics.plot_confusion_matrix instead.\n",
            "  warnings.warn(msg, category=FutureWarning)\n"
          ],
          "name": "stderr"
        },
        {
          "output_type": "display_data",
          "data": {
            "image/png": "[encoded data removed]",
            "text/plain": [
              "<Figure size 432x288 with 2 Axes>"
            ]
          },
          "metadata": {
            "tags": [],
            "needs_background": "light"
          }
        }
      ]
    },
    {
      "cell_type": "code",
      "metadata": {
        "id": "NRQQuHeyBhs2",
        "colab_type": "code",
        "outputId": "3412ee5b-3e3e-41a3-d534-c6415a340800",
        "colab": {
          "base_uri": "https://localhost:8080/",
          "height": 67
        }
      },
      "source": [
        "abel_encoder = LabelEncoder()\n",
        "label_encoder.fit(yte)\n",
        "encoded_y = np_utils.to_categorical((label_encoder.transform(yte)))\n",
        "\n",
        "score = model.evaluate(xte, encoded_y)\n",
        "print(\"\")\n",
        "print(\"Accuracy = \" + format(score[1]*100, '.2f') + \"%\")   # 92.69%\n"
      ],
      "execution_count": 0,
      "outputs": [
        {
          "output_type": "stream",
          "text": [
            "4153/4153 [==============================] - 0s 32us/step\n",
            "\n",
            "Accuracy = 92.17%\n"
          ],
          "name": "stdout"
        }
      ]
    },
    {
      "cell_type": "code",
      "metadata": {
        "id": "g-HhI5NbDsm2",
        "colab_type": "code",
        "outputId": "4d303668-6f2c-4ebb-9292-13fc80361bdc",
        "colab": {
          "base_uri": "https://localhost:8080/",
          "height": 50
        }
      },
      "source": [
        "print(xte.shape)\n",
        "print(xtr.shape)"
      ],
      "execution_count": 0,
      "outputs": [
        {
          "output_type": "stream",
          "text": [
            "(4153, 300)\n",
            "(16608, 300)\n"
          ],
          "name": "stdout"
        }
      ]
    },
    {
      "cell_type": "code",
      "metadata": {
        "id": "9Buxl1EUHUyi",
        "colab_type": "code",
        "outputId": "072b3dbf-7c63-410c-b346-419cb2fb057d",
        "colab": {
          "base_uri": "https://localhost:8080/",
          "height": 432
        }
      },
      "source": [
        "from keras.datasets import imdb\n",
        "from keras.models import Sequential\n",
        "from keras.layers import Dense\n",
        "from keras.layers import LSTM\n",
        "from keras.layers.embeddings import Embedding\n",
        "from keras.preprocessing import sequence\n",
        "from collections import Counter\n",
        "import os\n",
        "#import getEmbeddings2\n",
        "import matplotlib.pyplot as plt\n",
        "import scikitplot.plotters as skplt\n",
        "\n",
        "\n",
        "top_words = 5000\n",
        "epoch_num = 5\n",
        "batch_size = 64\n",
        "\n",
        "def plot_cmat(yte, ypred):\n",
        "    '''Plotting confusion matrix'''\n",
        "    skplt.plot_confusion_matrix(yte, ypred)\n",
        "    plt.show()\n",
        "\n",
        "if not os.path.isfile('./xtr_shuffled.npy') or \\\n",
        "    not os.path.isfile('./xte_shuffled.npy') or \\\n",
        "    not os.path.isfile('./ytr_shuffled.npy') or \\\n",
        "    not os.path.isfile('./yte_shuffled.npy'):\n",
        "    getEmbeddings(path)\n",
        "    #getEmbeddings.clean_data()\n",
        "\n",
        "\n",
        "xtr = np.load('./xtr_shuffled.npy')\n",
        "xte = np.load('./xte_shuffled.npy')\n",
        "y_train = np.load('./ytr_shuffled.npy')\n",
        "y_test = np.load('./yte_shuffled.npy')\n",
        "\n",
        "cnt = Counter()\n",
        "x_train = []\n",
        "for x in xtr:\n",
        "    x_train.append(x.split())\n",
        "    for word in x_train[-1]:\n",
        "        cnt[word] += 1  \n",
        "\n",
        "# Storing most common words\n",
        "most_common = cnt.most_common(top_words + 1)\n",
        "word_bank = {}\n",
        "id_num = 1\n",
        "for word, freq in most_common:\n",
        "    word_bank[word] = id_num\n",
        "    id_num += 1\n",
        "\n",
        "# Encode the sentences\n",
        "for news in x_train:\n",
        "    i = 0\n",
        "    while i < len(news):\n",
        "        if news[i] in word_bank:\n",
        "            news[i] = word_bank[news[i]]\n",
        "            i += 1\n",
        "        else:\n",
        "            del news[i]\n",
        "\n",
        "y_train = list(y_train)\n",
        "y_test = list(y_test)\n",
        "\n",
        "# Delete the short news\n",
        "i = 0\n",
        "while i < len(x_train):\n",
        "    if len(x_train[i]) > 10:\n",
        "        i += 1\n",
        "    else:\n",
        "        del x_train[i]\n",
        "        del y_train[i]\n",
        "\n",
        "# Generating test data\n",
        "x_test = []\n",
        "for x in xte:\n",
        "    x_test.append(x.split())\n",
        "\n",
        "# Encode the sentences\n",
        "for news in x_test:\n",
        "    i = 0\n",
        "    while i < len(news):\n",
        "        if news[i] in word_bank:\n",
        "            news[i] = word_bank[news[i]]\n",
        "            i += 1\n",
        "        else:\n",
        "            del news[i]\n",
        "\n",
        "\n",
        "# Truncate and pad input sequences\n",
        "max_review_length = 500\n",
        "X_train = sequence.pad_sequences(x_train, maxlen=max_review_length)\n",
        "X_test = sequence.pad_sequences(x_test, maxlen=max_review_length)\n",
        "\n",
        "# Convert to numpy arrays\n",
        "y_train = np.array(y_train)\n",
        "y_test = np.array(y_test)\n",
        "\n",
        "# Create the model\n",
        "embedding_vecor_length = 32\n",
        "model = Sequential()\n",
        "model.add(Embedding(top_words+2, embedding_vecor_length, input_length=max_review_length))\n",
        "model.add(LSTM(100))\n",
        "model.add(Dense(1, activation='sigmoid'))\n",
        "model.compile(loss='binary_crossentropy', optimizer='adam', metrics=['accuracy'])\n",
        "print(model.summary())\n",
        "model.fit(X_train, y_train, validation_data=(X_test, y_test), epochs=epoch_num, batch_size=batch_size)\n",
        "\n",
        "# Final evaluation of the model\n",
        "scores = model.evaluate(X_test, y_test, verbose=0)\n",
        "print(\"Accuracy= %.2f%%\" % (scores[1]*100))\n",
        "\n",
        "# Draw the confusion matrix\n",
        "y_pred = model.predict_classes(X_test)\n",
        "plot_cmat(y_test, y_pred)"
      ],
      "execution_count": 0,
      "outputs": [
        {
          "output_type": "stream",
          "text": [
            "*\n",
            "ah\n"
          ],
          "name": "stdout"
        },
        {
          "output_type": "stream",
          "text": [
            "/usr/local/lib/python3.6/dist-packages/ipykernel_launcher.py:29: DeprecationWarning: Call to deprecated `LabeledSentence` (Class will be removed in 4.0.0, use TaggedDocument instead).\n",
            "/usr/local/lib/python3.6/dist-packages/ipykernel_launcher.py:53: DeprecationWarning: Call to deprecated `iter` (Attribute will be removed in 4.0.0, use self.epochs instead).\n"
          ],
          "name": "stderr"
        },
        {
          "output_type": "error",
          "ename": "FileNotFoundError",
          "evalue": "ignored",
          "traceback": [
            "\u001b[0;31m---------------------------------------------------------------------------\u001b[0m",
            "\u001b[0;31mFileNotFoundError\u001b[0m                         Traceback (most recent call last)",
            "\u001b[0;32m<ipython-input-26-e6369d5c8e97>\u001b[0m in \u001b[0;36m<module>\u001b[0;34m()\u001b[0m\n\u001b[1;32m     26\u001b[0m \u001b[0;34m\u001b[0m\u001b[0m\n\u001b[1;32m     27\u001b[0m \u001b[0;34m\u001b[0m\u001b[0m\n\u001b[0;32m---> 28\u001b[0;31m \u001b[0mxtr\u001b[0m \u001b[0;34m=\u001b[0m \u001b[0mnp\u001b[0m\u001b[0;34m.\u001b[0m\u001b[0mload\u001b[0m\u001b[0;34m(\u001b[0m\u001b[0;34m'./xtr_shuffled.npy'\u001b[0m\u001b[0;34m)\u001b[0m\u001b[0;34m\u001b[0m\u001b[0;34m\u001b[0m\u001b[0m\n\u001b[0m\u001b[1;32m     29\u001b[0m \u001b[0mxte\u001b[0m \u001b[0;34m=\u001b[0m \u001b[0mnp\u001b[0m\u001b[0;34m.\u001b[0m\u001b[0mload\u001b[0m\u001b[0;34m(\u001b[0m\u001b[0;34m'./xte_shuffled.npy'\u001b[0m\u001b[0;34m)\u001b[0m\u001b[0;34m\u001b[0m\u001b[0;34m\u001b[0m\u001b[0m\n\u001b[1;32m     30\u001b[0m \u001b[0my_train\u001b[0m \u001b[0;34m=\u001b[0m \u001b[0mnp\u001b[0m\u001b[0;34m.\u001b[0m\u001b[0mload\u001b[0m\u001b[0;34m(\u001b[0m\u001b[0;34m'./ytr_shuffled.npy'\u001b[0m\u001b[0;34m)\u001b[0m\u001b[0;34m\u001b[0m\u001b[0;34m\u001b[0m\u001b[0m\n",
            "\u001b[0;32m/usr/local/lib/python3.6/dist-packages/numpy/lib/npyio.py\u001b[0m in \u001b[0;36mload\u001b[0;34m(file, mmap_mode, allow_pickle, fix_imports, encoding)\u001b[0m\n\u001b[1;32m    426\u001b[0m         \u001b[0mown_fid\u001b[0m \u001b[0;34m=\u001b[0m \u001b[0;32mFalse\u001b[0m\u001b[0;34m\u001b[0m\u001b[0;34m\u001b[0m\u001b[0m\n\u001b[1;32m    427\u001b[0m     \u001b[0;32melse\u001b[0m\u001b[0;34m:\u001b[0m\u001b[0;34m\u001b[0m\u001b[0;34m\u001b[0m\u001b[0m\n\u001b[0;32m--> 428\u001b[0;31m         \u001b[0mfid\u001b[0m \u001b[0;34m=\u001b[0m \u001b[0mopen\u001b[0m\u001b[0;34m(\u001b[0m\u001b[0mos_fspath\u001b[0m\u001b[0;34m(\u001b[0m\u001b[0mfile\u001b[0m\u001b[0;34m)\u001b[0m\u001b[0;34m,\u001b[0m \u001b[0;34m\"rb\"\u001b[0m\u001b[0;34m)\u001b[0m\u001b[0;34m\u001b[0m\u001b[0;34m\u001b[0m\u001b[0m\n\u001b[0m\u001b[1;32m    429\u001b[0m         \u001b[0mown_fid\u001b[0m \u001b[0;34m=\u001b[0m \u001b[0;32mTrue\u001b[0m\u001b[0;34m\u001b[0m\u001b[0;34m\u001b[0m\u001b[0m\n\u001b[1;32m    430\u001b[0m \u001b[0;34m\u001b[0m\u001b[0m\n",
            "\u001b[0;31mFileNotFoundError\u001b[0m: [Errno 2] No such file or directory: './xtr_shuffled.npy'"
          ]
        }
      ]
    },
    {
      "cell_type": "code",
      "metadata": {
        "id": "onKGaTEhHUJE",
        "colab_type": "code",
        "outputId": "3d1224b2-011a-4171-d9c1-c8eca6ae8b86",
        "colab": {
          "base_uri": "https://localhost:8080/",
          "height": 432
        }
      },
      "source": [
        "#from getEmbeddings import getEmbeddings\n",
        "from sklearn.naive_bayes import GaussianNB\n",
        "import numpy as np\n",
        "import matplotlib.pyplot as plt\n",
        "import scikitplot.plotters as skplt\n",
        "\n",
        "\n",
        "def plot_cmat(yte, ypred):\n",
        "    '''Plotting confusion matrix'''\n",
        "    skplt.plot_confusion_matrix(yte,ypred)\n",
        "    plt.show()\n",
        "\n",
        "\n",
        "xtr,xte,ytr,yte = getEmbeddings(path)\n",
        "np.save('./xtr', xtr)\n",
        "np.save('./xte', xte)\n",
        "np.save('./ytr', ytr)\n",
        "np.save('./yte', yte)\n",
        "\n",
        "xtr = np.load('./xtr.npy')\n",
        "xte = np.load('./xte.npy')\n",
        "ytr = np.load('./ytr.npy')\n",
        "yte = np.load('./yte.npy')\n",
        "\n",
        "gnb = GaussianNB()\n",
        "gnb.fit(xtr,ytr)\n",
        "y_pred = gnb.predict(xte)\n",
        "m = yte.shape[0]\n",
        "n = (yte != y_pred).sum()\n",
        "print(\"Accuracy = \" + format((m-n)/m*100, '.2f') + \"%\")   # 72.94%\n",
        "\n",
        "plot_cmat(yte, y_pred)"
      ],
      "execution_count": 0,
      "outputs": [
        {
          "output_type": "stream",
          "text": [
            "*\n",
            "ah\n"
          ],
          "name": "stdout"
        },
        {
          "output_type": "stream",
          "text": [
            "/usr/local/lib/python3.6/dist-packages/ipykernel_launcher.py:29: DeprecationWarning: Call to deprecated `LabeledSentence` (Class will be removed in 4.0.0, use TaggedDocument instead).\n",
            "/usr/local/lib/python3.6/dist-packages/ipykernel_launcher.py:53: DeprecationWarning: Call to deprecated `iter` (Attribute will be removed in 4.0.0, use self.epochs instead).\n"
          ],
          "name": "stderr"
        },
        {
          "output_type": "stream",
          "text": [
            "Accuracy = 72.04%\n"
          ],
          "name": "stdout"
        },
        {
          "output_type": "stream",
          "text": [
            "/usr/local/lib/python3.6/dist-packages/sklearn/utils/deprecation.py:87: FutureWarning: Function plot_confusion_matrix is deprecated; This will be removed in v0.4.0. Please use scikitplot.metrics.plot_confusion_matrix instead.\n",
            "  warnings.warn(msg, category=FutureWarning)\n"
          ],
          "name": "stderr"
        },
        {
          "output_type": "display_data",
          "data": {
            "image/png": "[encoded data removed]",
            "text/plain": [
              "<Figure size 432x288 with 2 Axes>"
            ]
          },
          "metadata": {
            "tags": [],
            "needs_background": "light"
          }
        }
      ]
    },
    {
      "cell_type": "code",
      "metadata": {
        "id": "F5bjeKd7HsKq",
        "colab_type": "code",
        "outputId": "66007980-bc08-467e-efdb-24bc1dc3ee76",
        "colab": {
          "base_uri": "https://localhost:8080/",
          "height": 432
        }
      },
      "source": [
        "import numpy as np\n",
        "from sklearn.svm import SVC\n",
        "import matplotlib.pyplot as plt\n",
        "import scikitplot.plotters as skplt\n",
        "\n",
        "\n",
        "def plot_cmat(yte, ypred):\n",
        "    '''Plotting confusion matrix'''\n",
        "    skplt.plot_confusion_matrix(yte,ypred)\n",
        "    plt.show()\n",
        "\n",
        "\n",
        "xtr,xte,ytr,yte = getEmbeddings(path)\n",
        "np.save('./xtr', xtr)\n",
        "np.save('./xte', xte)\n",
        "np.save('./ytr', ytr)\n",
        "np.save('./yte', yte)\n",
        "\n",
        "xtr = np.load('./xtr.npy')\n",
        "xte = np.load('./xte.npy')\n",
        "ytr = np.load('./ytr.npy')\n",
        "yte = np.load('./yte.npy')\n",
        "\n",
        "clf = SVC()\n",
        "clf.fit(xtr, ytr)\n",
        "y_pred = clf.predict(xte)\n",
        "m = yte.shape[0]\n",
        "n = (yte != y_pred).sum()\n",
        "print(\"Accuracy = \" + format((m-n)/m*100, '.2f') + \"%\")   # 88.42%\n",
        "\n",
        "plot_cmat(yte, y_pred)"
      ],
      "execution_count": 0,
      "outputs": [
        {
          "output_type": "stream",
          "text": [
            "*\n",
            "ah\n"
          ],
          "name": "stdout"
        },
        {
          "output_type": "stream",
          "text": [
            "/usr/local/lib/python3.6/dist-packages/ipykernel_launcher.py:29: DeprecationWarning: Call to deprecated `LabeledSentence` (Class will be removed in 4.0.0, use TaggedDocument instead).\n",
            "/usr/local/lib/python3.6/dist-packages/ipykernel_launcher.py:53: DeprecationWarning: Call to deprecated `iter` (Attribute will be removed in 4.0.0, use self.epochs instead).\n"
          ],
          "name": "stderr"
        },
        {
          "output_type": "stream",
          "text": [
            "Accuracy = 91.84%\n"
          ],
          "name": "stdout"
        },
        {
          "output_type": "stream",
          "text": [
            "/usr/local/lib/python3.6/dist-packages/sklearn/utils/deprecation.py:87: FutureWarning: Function plot_confusion_matrix is deprecated; This will be removed in v0.4.0. Please use scikitplot.metrics.plot_confusion_matrix instead.\n",
            "  warnings.warn(msg, category=FutureWarning)\n"
          ],
          "name": "stderr"
        },
        {
          "output_type": "display_data",
          "data": {
            "image/png": "[encoded data removed]",
            "text/plain": [
              "<Figure size 432x288 with 2 Axes>"
            ]
          },
          "metadata": {
            "tags": [],
            "needs_background": "light"
          }
        }
      ]
    },
    {
      "cell_type": "code",
      "metadata": {
        "colab_type": "code",
        "outputId": "0b2b1520-8ac2-42b3-d411-5309eda3bf91",
        "id": "JRvqzydyiQZX",
        "colab": {
          "base_uri": "https://localhost:8080/",
          "height": 456
        }
      },
      "source": [
        "import matplotlib.pyplot as plt\n",
        "import numpy as np\n",
        "import keras\n",
        "from keras import backend as K\n",
        "from keras.utils import np_utils\n",
        "from keras.models import Sequential\n",
        "from keras.layers import Dense, Dropout, LSTM, Embedding, Input, RepeatVector\n",
        "from keras.optimizers import SGD\n",
        "from sklearn.preprocessing import LabelEncoder\n",
        "from sklearn.model_selection import train_test_split\n",
        "import scikitplot.plotters as skplt\n",
        "from keras import layers\n",
        "from keras.models import Sequential\n",
        "\n",
        "\n",
        "def plot_cmat(yte, ypred):\n",
        "    '''Plotting confusion matrix'''\n",
        "    skplt.plot_confusion_matrix(yte, ypred)\n",
        "    plt.show()\n",
        "\n",
        "\n",
        "xtr,xte,ytr,yte = getEmbeddings(path)\n",
        "np.save('./xtr', xtr)\n",
        "np.save('./xte', xte)\n",
        "np.save('./ytr', ytr)\n",
        "np.save('./yte', yte)\n",
        "\n",
        "xtr = np.load('./xtr.npy')\n",
        "xte = np.load('./xte.npy')\n",
        "ytr = np.load('./ytr.npy')\n",
        "yte = np.load('./yte.npy')\n",
        "\n",
        "\n",
        "def baseline_model():\n",
        "    model = Sequential(\n",
        "     [\n",
        "        # part 1: word and sequence processing\n",
        "    \n",
        "        layers.Conv1D(128, 5, activation='relu',input_shape=(16608, 300)),\n",
        "        layers.GlobalMaxPooling1D(),\n",
        "        \n",
        "        # part 2: classification\n",
        "        layers.Dense(128, activation='relu'),\n",
        "        layers.Dense(1, activation='sigmoid')\n",
        "    ])\n",
        "    model.compile(loss='binary_crossentropy',\n",
        "              optimizer='rmsprop',\n",
        "              metrics=['accuracy'])\n",
        "    return model\n",
        "    \n",
        "\n",
        "\n",
        "model = baseline_model()\n",
        "\n",
        "x_train, x_test, y_train, y_test = train_test_split(xtr, ytr, test_size=0.2, random_state=42)\n",
        "label_encoder = LabelEncoder()\n",
        "label_encoder.fit(y_train)\n",
        "encoded_y = np_utils.to_categorical((label_encoder.transform(y_train)))\n",
        "label_encoder.fit(y_test)\n",
        "encoded_y_test = np_utils.to_categorical((label_encoder.transform(y_test)))\n",
        "estimator = model.fit(x_train, encoded_y, epochs=20, batch_size=64)\n",
        "model.summary()\n",
        "print(\"Model Trained!\")\n",
        "score = model.evaluate(x_test, encoded_y_test)\n",
        "print(\"\")\n",
        "print(\"Accuracy = \" + format(score[1]*100, '.2f') + \"%\")   # 92.69%\n",
        "\n",
        "probabs = model.predict_proba(x_test)\n",
        "y_pred = np.argmax(probabs, axis=1)\n",
        " \n",
        "plot_cmat(y_test, y_pred)"
      ],
      "execution_count": 0,
      "outputs": [
        {
          "output_type": "stream",
          "text": [
            "*\n",
            "ah\n"
          ],
          "name": "stdout"
        },
        {
          "output_type": "stream",
          "text": [
            "/usr/local/lib/python3.6/dist-packages/ipykernel_launcher.py:29: DeprecationWarning: Call to deprecated `LabeledSentence` (Class will be removed in 4.0.0, use TaggedDocument instead).\n",
            "/usr/local/lib/python3.6/dist-packages/ipykernel_launcher.py:53: DeprecationWarning: Call to deprecated `iter` (Attribute will be removed in 4.0.0, use self.epochs instead).\n"
          ],
          "name": "stderr"
        },
        {
          "output_type": "error",
          "ename": "ValueError",
          "evalue": "ignored",
          "traceback": [
            "\u001b[0;31m---------------------------------------------------------------------------\u001b[0m",
            "\u001b[0;31mValueError\u001b[0m                                Traceback (most recent call last)",
            "\u001b[0;32m<ipython-input-25-2f148ba3a7c7>\u001b[0m in \u001b[0;36m<module>\u001b[0;34m()\u001b[0m\n\u001b[1;32m     59\u001b[0m \u001b[0mlabel_encoder\u001b[0m\u001b[0;34m.\u001b[0m\u001b[0mfit\u001b[0m\u001b[0;34m(\u001b[0m\u001b[0my_test\u001b[0m\u001b[0;34m)\u001b[0m\u001b[0;34m\u001b[0m\u001b[0;34m\u001b[0m\u001b[0m\n\u001b[1;32m     60\u001b[0m \u001b[0mencoded_y_test\u001b[0m \u001b[0;34m=\u001b[0m \u001b[0mnp_utils\u001b[0m\u001b[0;34m.\u001b[0m\u001b[0mto_categorical\u001b[0m\u001b[0;34m(\u001b[0m\u001b[0;34m(\u001b[0m\u001b[0mlabel_encoder\u001b[0m\u001b[0;34m.\u001b[0m\u001b[0mtransform\u001b[0m\u001b[0;34m(\u001b[0m\u001b[0my_test\u001b[0m\u001b[0;34m)\u001b[0m\u001b[0;34m)\u001b[0m\u001b[0;34m)\u001b[0m\u001b[0;34m\u001b[0m\u001b[0;34m\u001b[0m\u001b[0m\n\u001b[0;32m---> 61\u001b[0;31m \u001b[0mestimator\u001b[0m \u001b[0;34m=\u001b[0m \u001b[0mmodel\u001b[0m\u001b[0;34m.\u001b[0m\u001b[0mfit\u001b[0m\u001b[0;34m(\u001b[0m\u001b[0mx_train\u001b[0m\u001b[0;34m,\u001b[0m \u001b[0mencoded_y\u001b[0m\u001b[0;34m,\u001b[0m \u001b[0mepochs\u001b[0m\u001b[0;34m=\u001b[0m\u001b[0;36m20\u001b[0m\u001b[0;34m,\u001b[0m \u001b[0mbatch_size\u001b[0m\u001b[0;34m=\u001b[0m\u001b[0;36m64\u001b[0m\u001b[0;34m)\u001b[0m\u001b[0;34m\u001b[0m\u001b[0;34m\u001b[0m\u001b[0m\n\u001b[0m\u001b[1;32m     62\u001b[0m \u001b[0mmodel\u001b[0m\u001b[0;34m.\u001b[0m\u001b[0msummary\u001b[0m\u001b[0;34m(\u001b[0m\u001b[0;34m)\u001b[0m\u001b[0;34m\u001b[0m\u001b[0;34m\u001b[0m\u001b[0m\n\u001b[1;32m     63\u001b[0m \u001b[0mprint\u001b[0m\u001b[0;34m(\u001b[0m\u001b[0;34m\"Model Trained!\"\u001b[0m\u001b[0;34m)\u001b[0m\u001b[0;34m\u001b[0m\u001b[0;34m\u001b[0m\u001b[0m\n",
            "\u001b[0;32m/usr/local/lib/python3.6/dist-packages/keras/engine/training.py\u001b[0m in \u001b[0;36mfit\u001b[0;34m(self, x, y, batch_size, epochs, verbose, callbacks, validation_split, validation_data, shuffle, class_weight, sample_weight, initial_epoch, steps_per_epoch, validation_steps, validation_freq, max_queue_size, workers, use_multiprocessing, **kwargs)\u001b[0m\n\u001b[1;32m   1152\u001b[0m             \u001b[0msample_weight\u001b[0m\u001b[0;34m=\u001b[0m\u001b[0msample_weight\u001b[0m\u001b[0;34m,\u001b[0m\u001b[0;34m\u001b[0m\u001b[0;34m\u001b[0m\u001b[0m\n\u001b[1;32m   1153\u001b[0m             \u001b[0mclass_weight\u001b[0m\u001b[0;34m=\u001b[0m\u001b[0mclass_weight\u001b[0m\u001b[0;34m,\u001b[0m\u001b[0;34m\u001b[0m\u001b[0;34m\u001b[0m\u001b[0m\n\u001b[0;32m-> 1154\u001b[0;31m             batch_size=batch_size)\n\u001b[0m\u001b[1;32m   1155\u001b[0m \u001b[0;34m\u001b[0m\u001b[0m\n\u001b[1;32m   1156\u001b[0m         \u001b[0;31m# Prepare validation data.\u001b[0m\u001b[0;34m\u001b[0m\u001b[0;34m\u001b[0m\u001b[0;34m\u001b[0m\u001b[0m\n",
            "\u001b[0;32m/usr/local/lib/python3.6/dist-packages/keras/engine/training.py\u001b[0m in \u001b[0;36m_standardize_user_data\u001b[0;34m(self, x, y, sample_weight, class_weight, check_array_lengths, batch_size)\u001b[0m\n\u001b[1;32m    577\u001b[0m             \u001b[0mfeed_input_shapes\u001b[0m\u001b[0;34m,\u001b[0m\u001b[0;34m\u001b[0m\u001b[0;34m\u001b[0m\u001b[0m\n\u001b[1;32m    578\u001b[0m             \u001b[0mcheck_batch_axis\u001b[0m\u001b[0;34m=\u001b[0m\u001b[0;32mFalse\u001b[0m\u001b[0;34m,\u001b[0m  \u001b[0;31m# Don't enforce the batch size.\u001b[0m\u001b[0;34m\u001b[0m\u001b[0;34m\u001b[0m\u001b[0m\n\u001b[0;32m--> 579\u001b[0;31m             exception_prefix='input')\n\u001b[0m\u001b[1;32m    580\u001b[0m \u001b[0;34m\u001b[0m\u001b[0m\n\u001b[1;32m    581\u001b[0m         \u001b[0;32mif\u001b[0m \u001b[0my\u001b[0m \u001b[0;32mis\u001b[0m \u001b[0;32mnot\u001b[0m \u001b[0;32mNone\u001b[0m\u001b[0;34m:\u001b[0m\u001b[0;34m\u001b[0m\u001b[0;34m\u001b[0m\u001b[0m\n",
            "\u001b[0;32m/usr/local/lib/python3.6/dist-packages/keras/engine/training_utils.py\u001b[0m in \u001b[0;36mstandardize_input_data\u001b[0;34m(data, names, shapes, check_batch_axis, exception_prefix)\u001b[0m\n\u001b[1;32m    133\u001b[0m                         \u001b[0;34m': expected '\u001b[0m \u001b[0;34m+\u001b[0m \u001b[0mnames\u001b[0m\u001b[0;34m[\u001b[0m\u001b[0mi\u001b[0m\u001b[0;34m]\u001b[0m \u001b[0;34m+\u001b[0m \u001b[0;34m' to have '\u001b[0m \u001b[0;34m+\u001b[0m\u001b[0;34m\u001b[0m\u001b[0;34m\u001b[0m\u001b[0m\n\u001b[1;32m    134\u001b[0m                         \u001b[0mstr\u001b[0m\u001b[0;34m(\u001b[0m\u001b[0mlen\u001b[0m\u001b[0;34m(\u001b[0m\u001b[0mshape\u001b[0m\u001b[0;34m)\u001b[0m\u001b[0;34m)\u001b[0m \u001b[0;34m+\u001b[0m \u001b[0;34m' dimensions, but got array '\u001b[0m\u001b[0;34m\u001b[0m\u001b[0;34m\u001b[0m\u001b[0m\n\u001b[0;32m--> 135\u001b[0;31m                         'with shape ' + str(data_shape))\n\u001b[0m\u001b[1;32m    136\u001b[0m                 \u001b[0;32mif\u001b[0m \u001b[0;32mnot\u001b[0m \u001b[0mcheck_batch_axis\u001b[0m\u001b[0;34m:\u001b[0m\u001b[0;34m\u001b[0m\u001b[0;34m\u001b[0m\u001b[0m\n\u001b[1;32m    137\u001b[0m                     \u001b[0mdata_shape\u001b[0m \u001b[0;34m=\u001b[0m \u001b[0mdata_shape\u001b[0m\u001b[0;34m[\u001b[0m\u001b[0;36m1\u001b[0m\u001b[0;34m:\u001b[0m\u001b[0;34m]\u001b[0m\u001b[0;34m\u001b[0m\u001b[0;34m\u001b[0m\u001b[0m\n",
            "\u001b[0;31mValueError\u001b[0m: Error when checking input: expected conv1d_3_input to have 3 dimensions, but got array with shape (13286, 300)"
          ]
        }
      ]
    },
    {
      "cell_type": "markdown",
      "metadata": {
        "id": "3mpnj1LPnRPX",
        "colab_type": "text"
      },
      "source": [
        "neeche wale code main Adadelta wala result use krna yeh CNN ka hai \n"
      ]
    },
    {
      "cell_type": "code",
      "metadata": {
        "id": "an8bREFNXW3q",
        "colab_type": "code",
        "outputId": "54c0daa9-7036-4323-fbfe-bc94083edcb3",
        "colab": {
          "base_uri": "https://localhost:8080/",
          "height": 1000
        }
      },
      "source": [
        "a=['SGD','RMSprop','Adam','Adadelta','Adagrad','Adamax','Nadam']\n",
        "j=['categorical_crossentropy','SparseCategoricalCrossentropy' ,'Poisson' ,'binary_crossentropy','categorical_crossentropy','sparse_categorical_crossentropy' \n",
        ", 'poisson']\n",
        "\n",
        "def baseline_model():\n",
        "    model = Sequential(\n",
        "     [\n",
        "        # part 1: word and sequence processing\n",
        "    \n",
        "        layers.Conv1D(128, 5, activation='relu',input_shape=(300,1)),\n",
        "        layers.GlobalMaxPooling1D(),\n",
        "        \n",
        "        # part 2: classification\n",
        "        layers.Dense(128, activation='relu'),\n",
        "        layers.Dense(2, activation='softmax')\n",
        "    ])\n",
        "    model.compile(loss=j[n],\n",
        "              optimizer=a[i],\n",
        "              metrics=['accuracy'])\n",
        "    return model\n",
        "    \n",
        "for n in range(0,len(j)):\n",
        "  for i in range(0,len(a)):\n",
        "    model = baseline_model()\n",
        "    x_train, x_test, y_train, y_test = train_test_split(tr, ytr, test_size=0.2, random_state=42)\n",
        "    label_encoder = LabelEncoder()\n",
        "    label_encoder.fit(y_train)\n",
        "    encoded_y = np_utils.to_categorical((label_encoder.transform(y_train)))\n",
        "    label_encoder.fit(y_test)\n",
        "    encoded_y_test = np_utils.to_categorical((label_encoder.transform(y_test)))\n",
        "    estimator = model.fit(x_train, encoded_y, epochs=20, batch_size=64)\n",
        "    model.summary()\n",
        "    print(\"Model Trained!\")\n",
        "    score = model.evaluate(x_test, encoded_y_test)\n",
        "    print(\"\")\n",
        "    print(\"Accuracy = \"+ a[i] + format(score[1]*100, '.2f') + \"%\")   # 92.69%\n",
        "    probabs = model.predict_proba(x_test)\n",
        "    y_pred = np.argmax(probabs, axis=1)\n",
        "    plot_cmat(y_test, y_pred)"
      ],
      "execution_count": 0,
      "outputs": [
        {
          "output_type": "stream",
          "text": [
            "Epoch 1/20\n",
            "13286/13286 [==============================] - 5s 383us/step - loss: 0.6838 - accuracy: 0.5962\n",
            "Epoch 2/20\n",
            "13286/13286 [==============================] - 5s 381us/step - loss: 0.6728 - accuracy: 0.6281\n",
            "Epoch 3/20\n",
            "13286/13286 [==============================] - 5s 376us/step - loss: 0.6660 - accuracy: 0.6277\n",
            "Epoch 4/20\n",
            "13286/13286 [==============================] - 5s 374us/step - loss: 0.6613 - accuracy: 0.6290\n",
            "Epoch 5/20\n",
            "13286/13286 [==============================] - 5s 374us/step - loss: 0.6580 - accuracy: 0.6287\n",
            "Epoch 6/20\n",
            "13286/13286 [==============================] - 5s 381us/step - loss: 0.6548 - accuracy: 0.6307\n",
            "Epoch 7/20\n",
            "13286/13286 [==============================] - 5s 381us/step - loss: 0.6520 - accuracy: 0.6322\n",
            "Epoch 8/20\n",
            "13286/13286 [==============================] - 5s 377us/step - loss: 0.6493 - accuracy: 0.6350\n",
            "Epoch 9/20\n",
            "13286/13286 [==============================] - 5s 382us/step - loss: 0.6464 - accuracy: 0.6376\n",
            "Epoch 10/20\n",
            "13286/13286 [==============================] - 5s 381us/step - loss: 0.6437 - accuracy: 0.6421\n",
            "Epoch 11/20\n",
            "13286/13286 [==============================] - 5s 384us/step - loss: 0.6409 - accuracy: 0.6418\n",
            "Epoch 12/20\n",
            "13286/13286 [==============================] - 5s 396us/step - loss: 0.6376 - accuracy: 0.6466\n",
            "Epoch 13/20\n",
            "13286/13286 [==============================] - 5s 381us/step - loss: 0.6346 - accuracy: 0.6492\n",
            "Epoch 14/20\n",
            "13286/13286 [==============================] - 5s 380us/step - loss: 0.6312 - accuracy: 0.6523\n",
            "Epoch 15/20\n",
            "13286/13286 [==============================] - 5s 381us/step - loss: 0.6273 - accuracy: 0.6551\n",
            "Epoch 16/20\n",
            "13286/13286 [==============================] - 5s 383us/step - loss: 0.6235 - accuracy: 0.6584\n",
            "Epoch 17/20\n",
            "13286/13286 [==============================] - 5s 380us/step - loss: 0.6191 - accuracy: 0.6629\n",
            "Epoch 18/20\n",
            "13286/13286 [==============================] - 5s 376us/step - loss: 0.6145 - accuracy: 0.6660\n",
            "Epoch 19/20\n",
            "13286/13286 [==============================] - 5s 380us/step - loss: 0.6098 - accuracy: 0.6677\n",
            "Epoch 20/20\n",
            "13286/13286 [==============================] - 5s 381us/step - loss: 0.6047 - accuracy: 0.6736\n",
            "Model: \"sequential_25\"\n",
            "_________________________________________________________________\n",
            "Layer (type)                 Output Shape              Param #   \n",
            "=================================================================\n",
            "conv1d_22 (Conv1D)           (None, 296, 128)          768       \n",
            "_________________________________________________________________\n",
            "global_max_pooling1d_22 (Glo (None, 128)               0         \n",
            "_________________________________________________________________\n",
            "dense_55 (Dense)             (None, 128)               16512     \n",
            "_________________________________________________________________\n",
            "dense_56 (Dense)             (None, 2)                 258       \n",
            "=================================================================\n",
            "Total params: 17,538\n",
            "Trainable params: 17,538\n",
            "Non-trainable params: 0\n",
            "_________________________________________________________________\n",
            "Model Trained!\n",
            "3322/3322 [==============================] - 0s 107us/step\n",
            "\n",
            "Accuracy = SGD67.82%\n"
          ],
          "name": "stdout"
        },
        {
          "output_type": "stream",
          "text": [
            "/usr/local/lib/python3.6/dist-packages/sklearn/utils/deprecation.py:87: FutureWarning: Function plot_confusion_matrix is deprecated; This will be removed in v0.4.0. Please use scikitplot.metrics.plot_confusion_matrix instead.\n",
            "  warnings.warn(msg, category=FutureWarning)\n"
          ],
          "name": "stderr"
        },
        {
          "output_type": "display_data",
          "data": {
            "image/png": "[encoded data removed]",
            "text/plain": [
              "<Figure size 432x288 with 2 Axes>"
            ]
          },
          "metadata": {
            "tags": [],
            "needs_background": "light"
          }
        },
        {
          "output_type": "stream",
          "text": [
            "Epoch 1/20\n",
            "13286/13286 [==============================] - 5s 389us/step - loss: 0.6526 - accuracy: 0.6255\n",
            "Epoch 2/20\n",
            "13286/13286 [==============================] - 5s 389us/step - loss: 0.6021 - accuracy: 0.6693\n",
            "Epoch 3/20\n",
            "13286/13286 [==============================] - 5s 384us/step - loss: 0.5791 - accuracy: 0.6902\n",
            "Epoch 4/20\n",
            "13286/13286 [==============================] - 5s 387us/step - loss: 0.5676 - accuracy: 0.6953\n",
            "Epoch 5/20\n",
            "13286/13286 [==============================] - 5s 380us/step - loss: 0.5625 - accuracy: 0.7044\n",
            "Epoch 6/20\n",
            "13286/13286 [==============================] - 5s 382us/step - loss: 0.5592 - accuracy: 0.7036\n",
            "Epoch 7/20\n",
            "13286/13286 [==============================] - 5s 376us/step - loss: 0.5582 - accuracy: 0.7077\n",
            "Epoch 8/20\n",
            "13286/13286 [==============================] - 5s 387us/step - loss: 0.5569 - accuracy: 0.7104\n",
            "Epoch 9/20\n",
            "13286/13286 [==============================] - 5s 390us/step - loss: 0.5530 - accuracy: 0.7098\n",
            "Epoch 10/20\n",
            "13286/13286 [==============================] - 5s 392us/step - loss: 0.5515 - accuracy: 0.7138\n",
            "Epoch 11/20\n",
            "13286/13286 [==============================] - 5s 383us/step - loss: 0.5484 - accuracy: 0.7151\n",
            "Epoch 12/20\n",
            "13286/13286 [==============================] - 5s 405us/step - loss: 0.5467 - accuracy: 0.7160\n",
            "Epoch 13/20\n",
            "13286/13286 [==============================] - 5s 384us/step - loss: 0.5473 - accuracy: 0.7148\n",
            "Epoch 14/20\n",
            "13286/13286 [==============================] - 5s 376us/step - loss: 0.5454 - accuracy: 0.7165\n",
            "Epoch 15/20\n",
            "13286/13286 [==============================] - 5s 379us/step - loss: 0.5450 - accuracy: 0.7153\n",
            "Epoch 16/20\n",
            "13286/13286 [==============================] - 5s 385us/step - loss: 0.5432 - accuracy: 0.7208\n",
            "Epoch 17/20\n",
            "13286/13286 [==============================] - 5s 383us/step - loss: 0.5412 - accuracy: 0.7157\n",
            "Epoch 18/20\n",
            "13286/13286 [==============================] - 5s 381us/step - loss: 0.5430 - accuracy: 0.7187\n",
            "Epoch 19/20\n",
            "13286/13286 [==============================] - 5s 380us/step - loss: 0.5401 - accuracy: 0.7217\n",
            "Epoch 20/20\n",
            "13286/13286 [==============================] - 5s 383us/step - loss: 0.5378 - accuracy: 0.7220\n",
            "Model: \"sequential_26\"\n",
            "_________________________________________________________________\n",
            "Layer (type)                 Output Shape              Param #   \n",
            "=================================================================\n",
            "conv1d_23 (Conv1D)           (None, 296, 128)          768       \n",
            "_________________________________________________________________\n",
            "global_max_pooling1d_23 (Glo (None, 128)               0         \n",
            "_________________________________________________________________\n",
            "dense_57 (Dense)             (None, 128)               16512     \n",
            "_________________________________________________________________\n",
            "dense_58 (Dense)             (None, 2)                 258       \n",
            "=================================================================\n",
            "Total params: 17,538\n",
            "Trainable params: 17,538\n",
            "Non-trainable params: 0\n",
            "_________________________________________________________________\n",
            "Model Trained!\n",
            "3322/3322 [==============================] - 0s 105us/step\n",
            "\n",
            "Accuracy = RMSprop67.34%\n"
          ],
          "name": "stdout"
        },
        {
          "output_type": "display_data",
          "data": {
            "image/png": "[encoded data removed]",
            "text/plain": [
              "<Figure size 432x288 with 2 Axes>"
            ]
          },
          "metadata": {
            "tags": [],
            "needs_background": "light"
          }
        },
        {
          "output_type": "stream",
          "text": [
            "Epoch 1/20\n",
            "13286/13286 [==============================] - 5s 390us/step - loss: 0.6527 - accuracy: 0.6259\n",
            "Epoch 2/20\n",
            "13286/13286 [==============================] - 5s 385us/step - loss: 0.5984 - accuracy: 0.6794\n",
            "Epoch 3/20\n",
            "13286/13286 [==============================] - 5s 383us/step - loss: 0.5723 - accuracy: 0.6960\n",
            "Epoch 4/20\n",
            "13286/13286 [==============================] - 5s 386us/step - loss: 0.5577 - accuracy: 0.7102\n",
            "Epoch 5/20\n",
            "13286/13286 [==============================] - 5s 378us/step - loss: 0.5512 - accuracy: 0.7139\n",
            "Epoch 6/20\n",
            "13286/13286 [==============================] - 5s 380us/step - loss: 0.5496 - accuracy: 0.7149\n",
            "Epoch 7/20\n",
            "13286/13286 [==============================] - 5s 389us/step - loss: 0.5459 - accuracy: 0.7177\n",
            "Epoch 8/20\n",
            "13286/13286 [==============================] - 5s 385us/step - loss: 0.5445 - accuracy: 0.7192\n",
            "Epoch 9/20\n",
            "13286/13286 [==============================] - 5s 387us/step - loss: 0.5376 - accuracy: 0.7269\n",
            "Epoch 10/20\n",
            "13286/13286 [==============================] - 5s 382us/step - loss: 0.5409 - accuracy: 0.7221\n",
            "Epoch 11/20\n",
            "13286/13286 [==============================] - 5s 384us/step - loss: 0.5376 - accuracy: 0.7253\n",
            "Epoch 12/20\n",
            "13286/13286 [==============================] - 5s 389us/step - loss: 0.5388 - accuracy: 0.7232\n",
            "Epoch 13/20\n",
            "13286/13286 [==============================] - 5s 388us/step - loss: 0.5396 - accuracy: 0.7196\n",
            "Epoch 14/20\n",
            "13286/13286 [==============================] - 5s 384us/step - loss: 0.5346 - accuracy: 0.7268\n",
            "Epoch 15/20\n",
            "13286/13286 [==============================] - 5s 389us/step - loss: 0.5283 - accuracy: 0.7299\n",
            "Epoch 16/20\n",
            "13286/13286 [==============================] - 5s 378us/step - loss: 0.5360 - accuracy: 0.7214\n",
            "Epoch 17/20\n",
            "13286/13286 [==============================] - 5s 404us/step - loss: 0.5307 - accuracy: 0.7279\n",
            "Epoch 18/20\n",
            "13286/13286 [==============================] - 8s 602us/step - loss: 0.5311 - accuracy: 0.7293\n",
            "Epoch 19/20\n",
            "13286/13286 [==============================] - 5s 402us/step - loss: 0.5290 - accuracy: 0.7302\n",
            "Epoch 20/20\n",
            "13286/13286 [==============================] - 5s 381us/step - loss: 0.5280 - accuracy: 0.7310\n",
            "Model: \"sequential_27\"\n",
            "_________________________________________________________________\n",
            "Layer (type)                 Output Shape              Param #   \n",
            "=================================================================\n",
            "conv1d_24 (Conv1D)           (None, 296, 128)          768       \n",
            "_________________________________________________________________\n",
            "global_max_pooling1d_24 (Glo (None, 128)               0         \n",
            "_________________________________________________________________\n",
            "dense_59 (Dense)             (None, 128)               16512     \n",
            "_________________________________________________________________\n",
            "dense_60 (Dense)             (None, 2)                 258       \n",
            "=================================================================\n",
            "Total params: 17,538\n",
            "Trainable params: 17,538\n",
            "Non-trainable params: 0\n",
            "_________________________________________________________________\n",
            "Model Trained!\n",
            "3322/3322 [==============================] - 0s 107us/step\n",
            "\n",
            "Accuracy = Adam72.61%\n"
          ],
          "name": "stdout"
        },
        {
          "output_type": "display_data",
          "data": {
            "image/png": "[encoded data removed]",
            "text/plain": [
              "<Figure size 432x288 with 2 Axes>"
            ]
          },
          "metadata": {
            "tags": [],
            "needs_background": "light"
          }
        },
        {
          "output_type": "stream",
          "text": [
            "Epoch 1/20\n",
            "13286/13286 [==============================] - 5s 387us/step - loss: 0.6486 - accuracy: 0.6219\n",
            "Epoch 2/20\n",
            "13286/13286 [==============================] - 5s 373us/step - loss: 0.6105 - accuracy: 0.6578\n",
            "Epoch 3/20\n",
            "13286/13286 [==============================] - 5s 373us/step - loss: 0.5941 - accuracy: 0.6783\n",
            "Epoch 4/20\n",
            "13286/13286 [==============================] - 5s 374us/step - loss: 0.5828 - accuracy: 0.6802\n",
            "Epoch 5/20\n",
            "13286/13286 [==============================] - 5s 372us/step - loss: 0.5714 - accuracy: 0.6967\n",
            "Epoch 6/20\n",
            "13286/13286 [==============================] - 5s 377us/step - loss: 0.5619 - accuracy: 0.7034\n",
            "Epoch 7/20\n",
            "13286/13286 [==============================] - 5s 371us/step - loss: 0.5579 - accuracy: 0.7047\n",
            "Epoch 8/20\n",
            "13286/13286 [==============================] - 5s 375us/step - loss: 0.5570 - accuracy: 0.7075\n",
            "Epoch 9/20\n",
            "13286/13286 [==============================] - 5s 373us/step - loss: 0.5504 - accuracy: 0.7101\n",
            "Epoch 10/20\n",
            "13286/13286 [==============================] - 5s 387us/step - loss: 0.5483 - accuracy: 0.7168\n",
            "Epoch 11/20\n",
            "13286/13286 [==============================] - 5s 401us/step - loss: 0.5479 - accuracy: 0.7148\n",
            "Epoch 12/20\n",
            "13286/13286 [==============================] - 5s 393us/step - loss: 0.5443 - accuracy: 0.7198\n",
            "Epoch 13/20\n",
            "13286/13286 [==============================] - 5s 383us/step - loss: 0.5444 - accuracy: 0.7150\n",
            "Epoch 14/20\n",
            "13286/13286 [==============================] - 5s 388us/step - loss: 0.5422 - accuracy: 0.7234\n",
            "Epoch 15/20\n",
            "13286/13286 [==============================] - 5s 383us/step - loss: 0.5379 - accuracy: 0.7256\n",
            "Epoch 16/20\n",
            "13286/13286 [==============================] - 5s 383us/step - loss: 0.5420 - accuracy: 0.7184\n",
            "Epoch 17/20\n",
            "13286/13286 [==============================] - 5s 378us/step - loss: 0.5359 - accuracy: 0.7249\n",
            "Epoch 18/20\n",
            "13286/13286 [==============================] - 5s 380us/step - loss: 0.5346 - accuracy: 0.7287\n",
            "Epoch 19/20\n",
            "13286/13286 [==============================] - 5s 376us/step - loss: 0.5327 - accuracy: 0.7275\n",
            "Epoch 20/20\n",
            "13286/13286 [==============================] - 5s 379us/step - loss: 0.5384 - accuracy: 0.7223\n",
            "Model: \"sequential_28\"\n",
            "_________________________________________________________________\n",
            "Layer (type)                 Output Shape              Param #   \n",
            "=================================================================\n",
            "conv1d_25 (Conv1D)           (None, 296, 128)          768       \n",
            "_________________________________________________________________\n",
            "global_max_pooling1d_25 (Glo (None, 128)               0         \n",
            "_________________________________________________________________\n",
            "dense_61 (Dense)             (None, 128)               16512     \n",
            "_________________________________________________________________\n",
            "dense_62 (Dense)             (None, 2)                 258       \n",
            "=================================================================\n",
            "Total params: 17,538\n",
            "Trainable params: 17,538\n",
            "Non-trainable params: 0\n",
            "_________________________________________________________________\n",
            "Model Trained!\n",
            "3322/3322 [==============================] - 0s 113us/step\n",
            "\n",
            "Accuracy = Adadelta72.70%\n"
          ],
          "name": "stdout"
        },
        {
          "output_type": "display_data",
          "data": {
            "image/png": "[encoded data removed]",
            "text/plain": [
              "<Figure size 432x288 with 2 Axes>"
            ]
          },
          "metadata": {
            "tags": [],
            "needs_background": "light"
          }
        },
        {
          "output_type": "stream",
          "text": [
            "Epoch 1/20\n",
            "13286/13286 [==============================] - 5s 377us/step - loss: 0.6463 - accuracy: 0.6390\n",
            "Epoch 2/20\n",
            "13286/13286 [==============================] - 5s 369us/step - loss: 0.5979 - accuracy: 0.6804\n",
            "Epoch 3/20\n",
            "13286/13286 [==============================] - 5s 368us/step - loss: 0.5756 - accuracy: 0.6972\n",
            "Epoch 4/20\n",
            "13286/13286 [==============================] - 5s 371us/step - loss: 0.5643 - accuracy: 0.7102\n",
            "Epoch 5/20\n",
            "13286/13286 [==============================] - 5s 370us/step - loss: 0.5576 - accuracy: 0.7110\n",
            "Epoch 6/20\n",
            "13286/13286 [==============================] - 5s 373us/step - loss: 0.5524 - accuracy: 0.7165\n",
            "Epoch 7/20\n",
            "13286/13286 [==============================] - 5s 377us/step - loss: 0.5492 - accuracy: 0.7184\n",
            "Epoch 8/20\n",
            "13286/13286 [==============================] - 5s 380us/step - loss: 0.5458 - accuracy: 0.7213\n",
            "Epoch 9/20\n",
            "13286/13286 [==============================] - 5s 377us/step - loss: 0.5441 - accuracy: 0.7193\n",
            "Epoch 10/20\n",
            "13286/13286 [==============================] - 5s 379us/step - loss: 0.5427 - accuracy: 0.7229\n",
            "Epoch 11/20\n",
            "13286/13286 [==============================] - 5s 376us/step - loss: 0.5414 - accuracy: 0.7218\n",
            "Epoch 12/20\n",
            "13286/13286 [==============================] - 5s 361us/step - loss: 0.5391 - accuracy: 0.7257\n",
            "Epoch 13/20\n",
            "13286/13286 [==============================] - 5s 366us/step - loss: 0.5380 - accuracy: 0.7251\n",
            "Epoch 14/20\n",
            " 6400/13286 [=============>................] - ETA: 2s - loss: 0.5384 - accuracy: 0.7258"
          ],
          "name": "stdout"
        }
      ]
    },
    {
      "cell_type": "code",
      "metadata": {
        "id": "H02ninOhogT-",
        "colab_type": "code",
        "colab": {}
      },
      "source": [
        "tr=np.expand_dims(X, axis=2)\n",
        "\n"
      ],
      "execution_count": 0,
      "outputs": []
    },
    {
      "cell_type": "code",
      "metadata": {
        "id": "qjCS6YlTHuxA",
        "colab_type": "code",
        "outputId": "623bd4f3-02ea-41f8-8652-a591e45c1220",
        "colab": {
          "base_uri": "https://localhost:8080/",
          "height": 128
        }
      },
      "source": [
        "from keras import layers\n",
        "from keras.models import Sequential\n",
        "xte = np.expand_dims(X, axis=2)\n",
        "model = Sequential(\n",
        "    [\n",
        "        \n",
        "        layers.Conv1D(128, 5, activation='relu'),\n",
        "        layers.Conv1D(in)\n",
        "        layers.GlobalMaxPooling1D(),\n",
        "        \n",
        "        # part 2: classification\n",
        "        layers.Dense(128, activation='relu'),\n",
        "        layers.Dense(1, activation='sigmoid')\n",
        "    ])\n",
        "model.compile(loss='binary_crossentropy',\n",
        "              optimizer='rmsprop',\n",
        "              metrics=['accuracy'])"
      ],
      "execution_count": 0,
      "outputs": [
        {
          "output_type": "error",
          "ename": "SyntaxError",
          "evalue": "ignored",
          "traceback": [
            "\u001b[0;36m  File \u001b[0;32m\"<ipython-input-21-9da17c65e3e3>\"\u001b[0;36m, line \u001b[0;32m11\u001b[0m\n\u001b[0;31m    layers.Conv1D(in)\u001b[0m\n\u001b[0m                   ^\u001b[0m\n\u001b[0;31mSyntaxError\u001b[0m\u001b[0;31m:\u001b[0m invalid syntax\n"
          ]
        }
      ]
    },
    {
      "cell_type": "code",
      "metadata": {
        "colab_type": "code",
        "outputId": "3e876e06-e063-4ac0-f730-bf14d41fe086",
        "id": "0isDeQBswdjk",
        "colab": {
          "base_uri": "https://localhost:8080/",
          "height": 891
        }
      },
      "source": [
        "import matplotlib.pyplot as plt\n",
        "import numpy as np\n",
        "import keras\n",
        "from keras import backend as K\n",
        "from keras.utils import np_utils\n",
        "from keras.models import Sequential\n",
        "from keras.layers import Dense, Dropout, LSTM, Embedding, Input, RepeatVector\n",
        "from keras.optimizers import SGD\n",
        "from sklearn.preprocessing import LabelEncoder\n",
        "from sklearn.model_selection import train_test_split\n",
        "import scikitplot.plotters as skplt\n",
        "\n",
        "\n",
        "def plot_cmat(yte, ypred):\n",
        "    '''Plotting confusion matrix'''\n",
        "    skplt.plot_confusion_matrix(yte, ypred)\n",
        "    plt.show()\n",
        "\n",
        "\n",
        "xtr,xte,ytr,yte = getEmbeddings(path)\n",
        "\n",
        "\n",
        "def baseline_model():\n",
        "    '''Neural network with 3 hidden layers'''\n",
        "    model = Sequential()\n",
        "    model.add(Dense(256, input_dim=300, activation='relu', kernel_initializer='normal'))\n",
        "    model.add(Dropout(0.3))\n",
        "    model.add(Dense(256, activation='relu', kernel_initializer='normal'))\n",
        "    model.add(Dropout(0.5))\n",
        "    model.add(Dense(80, activation='relu', kernel_initializer='normal'))\n",
        "    model.add(Dense(1, activation=\"sigmoid\", kernel_initializer='normal'))\n",
        "\n",
        "    # gradient descent\n",
        "    sgd = SGD(lr=0.01, decay=1e-6, momentum=0.9, nesterov=True)\n",
        "    \n",
        "    # configure the learning process of the model\n",
        "    model.compile(loss='binary_crossentropy', optimizer=sgd, metrics=['accuracy'])\n",
        "    return model\n",
        "\n",
        "\n",
        "model = baseline_model()\n",
        "model.summary()\n",
        "x_train, x_test, y_train, y_test = train_test_split(xtr, ytr, test_size=0.2, random_state=42)\n",
        "#from keras.utils import to_categorical\n",
        "#y_train = to_categorical(y_train)\n",
        "#y_test = to_categorical(y_test)\n",
        "#estimator = model.fit(x_train, y_train, epochs=20, batch_size=64)\n",
        "print(\"Model Trained!\")\n",
        "score = model.evaluate(x_test, y_test)\n",
        "print(\"\")\n",
        "print(\"Accuracy = \" + format(score[1]*100, '.2f') + \"%\")   # 92.69%\n",
        "\n",
        "probabs = model.predict_proba(x_test)\n",
        "\n",
        "y_test=np.argmax(y_test, axis=1)\n",
        "y_pred=np.argmax(probabs, axis=1) \n",
        "\n",
        "plot_cmat(y_test,y_pred)\n"
      ],
      "execution_count": 0,
      "outputs": [
        {
          "output_type": "stream",
          "text": [
            "*\n",
            "ah\n"
          ],
          "name": "stdout"
        },
        {
          "output_type": "stream",
          "text": [
            "/usr/local/lib/python3.6/dist-packages/ipykernel_launcher.py:29: DeprecationWarning: Call to deprecated `LabeledSentence` (Class will be removed in 4.0.0, use TaggedDocument instead).\n",
            "/usr/local/lib/python3.6/dist-packages/ipykernel_launcher.py:53: DeprecationWarning: Call to deprecated `iter` (Attribute will be removed in 4.0.0, use self.epochs instead).\n"
          ],
          "name": "stderr"
        },
        {
          "output_type": "stream",
          "text": [
            "Model: \"sequential_7\"\n",
            "_________________________________________________________________\n",
            "Layer (type)                 Output Shape              Param #   \n",
            "=================================================================\n",
            "dense_17 (Dense)             (None, 256)               77056     \n",
            "_________________________________________________________________\n",
            "dropout_5 (Dropout)          (None, 256)               0         \n",
            "_________________________________________________________________\n",
            "dense_18 (Dense)             (None, 256)               65792     \n",
            "_________________________________________________________________\n",
            "dropout_6 (Dropout)          (None, 256)               0         \n",
            "_________________________________________________________________\n",
            "dense_19 (Dense)             (None, 80)                20560     \n",
            "_________________________________________________________________\n",
            "dense_20 (Dense)             (None, 1)                 81        \n",
            "=================================================================\n",
            "Total params: 163,489\n",
            "Trainable params: 163,489\n",
            "Non-trainable params: 0\n",
            "_________________________________________________________________\n",
            "Model Trained!\n",
            "3322/3322 [==============================] - 0s 47us/step\n",
            "\n",
            "Accuracy = 50.12%\n"
          ],
          "name": "stdout"
        },
        {
          "output_type": "error",
          "ename": "AxisError",
          "evalue": "ignored",
          "traceback": [
            "\u001b[0;31m---------------------------------------------------------------------------\u001b[0m",
            "\u001b[0;31mAxisError\u001b[0m                                 Traceback (most recent call last)",
            "\u001b[0;32m<ipython-input-28-5473356d7eb7>\u001b[0m in \u001b[0;36m<module>\u001b[0;34m()\u001b[0m\n\u001b[1;32m     53\u001b[0m \u001b[0mprobabs\u001b[0m \u001b[0;34m=\u001b[0m \u001b[0mmodel\u001b[0m\u001b[0;34m.\u001b[0m\u001b[0mpredict_proba\u001b[0m\u001b[0;34m(\u001b[0m\u001b[0mx_test\u001b[0m\u001b[0;34m)\u001b[0m\u001b[0;34m\u001b[0m\u001b[0;34m\u001b[0m\u001b[0m\n\u001b[1;32m     54\u001b[0m \u001b[0;34m\u001b[0m\u001b[0m\n\u001b[0;32m---> 55\u001b[0;31m \u001b[0my_test\u001b[0m\u001b[0;34m=\u001b[0m\u001b[0mnp\u001b[0m\u001b[0;34m.\u001b[0m\u001b[0margmax\u001b[0m\u001b[0;34m(\u001b[0m\u001b[0my_test\u001b[0m\u001b[0;34m,\u001b[0m \u001b[0maxis\u001b[0m\u001b[0;34m=\u001b[0m\u001b[0;36m1\u001b[0m\u001b[0;34m)\u001b[0m\u001b[0;34m\u001b[0m\u001b[0;34m\u001b[0m\u001b[0m\n\u001b[0m\u001b[1;32m     56\u001b[0m \u001b[0my_pred\u001b[0m\u001b[0;34m=\u001b[0m\u001b[0mnp\u001b[0m\u001b[0;34m.\u001b[0m\u001b[0margmax\u001b[0m\u001b[0;34m(\u001b[0m\u001b[0mprobabs\u001b[0m\u001b[0;34m,\u001b[0m \u001b[0maxis\u001b[0m\u001b[0;34m=\u001b[0m\u001b[0;36m1\u001b[0m\u001b[0;34m)\u001b[0m\u001b[0;34m\u001b[0m\u001b[0;34m\u001b[0m\u001b[0m\n\u001b[1;32m     57\u001b[0m \u001b[0;34m\u001b[0m\u001b[0m\n",
            "\u001b[0;32m<__array_function__ internals>\u001b[0m in \u001b[0;36margmax\u001b[0;34m(*args, **kwargs)\u001b[0m\n",
            "\u001b[0;32m/usr/local/lib/python3.6/dist-packages/numpy/core/fromnumeric.py\u001b[0m in \u001b[0;36margmax\u001b[0;34m(a, axis, out)\u001b[0m\n\u001b[1;32m   1184\u001b[0m \u001b[0;34m\u001b[0m\u001b[0m\n\u001b[1;32m   1185\u001b[0m     \"\"\"\n\u001b[0;32m-> 1186\u001b[0;31m     \u001b[0;32mreturn\u001b[0m \u001b[0m_wrapfunc\u001b[0m\u001b[0;34m(\u001b[0m\u001b[0ma\u001b[0m\u001b[0;34m,\u001b[0m \u001b[0;34m'argmax'\u001b[0m\u001b[0;34m,\u001b[0m \u001b[0maxis\u001b[0m\u001b[0;34m=\u001b[0m\u001b[0maxis\u001b[0m\u001b[0;34m,\u001b[0m \u001b[0mout\u001b[0m\u001b[0;34m=\u001b[0m\u001b[0mout\u001b[0m\u001b[0;34m)\u001b[0m\u001b[0;34m\u001b[0m\u001b[0;34m\u001b[0m\u001b[0m\n\u001b[0m\u001b[1;32m   1187\u001b[0m \u001b[0;34m\u001b[0m\u001b[0m\n\u001b[1;32m   1188\u001b[0m \u001b[0;34m\u001b[0m\u001b[0m\n",
            "\u001b[0;32m/usr/local/lib/python3.6/dist-packages/numpy/core/fromnumeric.py\u001b[0m in \u001b[0;36m_wrapfunc\u001b[0;34m(obj, method, *args, **kwds)\u001b[0m\n\u001b[1;32m     59\u001b[0m \u001b[0;34m\u001b[0m\u001b[0m\n\u001b[1;32m     60\u001b[0m     \u001b[0;32mtry\u001b[0m\u001b[0;34m:\u001b[0m\u001b[0;34m\u001b[0m\u001b[0;34m\u001b[0m\u001b[0m\n\u001b[0;32m---> 61\u001b[0;31m         \u001b[0;32mreturn\u001b[0m \u001b[0mbound\u001b[0m\u001b[0;34m(\u001b[0m\u001b[0;34m*\u001b[0m\u001b[0margs\u001b[0m\u001b[0;34m,\u001b[0m \u001b[0;34m**\u001b[0m\u001b[0mkwds\u001b[0m\u001b[0;34m)\u001b[0m\u001b[0;34m\u001b[0m\u001b[0;34m\u001b[0m\u001b[0m\n\u001b[0m\u001b[1;32m     62\u001b[0m     \u001b[0;32mexcept\u001b[0m \u001b[0mTypeError\u001b[0m\u001b[0;34m:\u001b[0m\u001b[0;34m\u001b[0m\u001b[0;34m\u001b[0m\u001b[0m\n\u001b[1;32m     63\u001b[0m         \u001b[0;31m# A TypeError occurs if the object does have such a method in its\u001b[0m\u001b[0;34m\u001b[0m\u001b[0;34m\u001b[0m\u001b[0;34m\u001b[0m\u001b[0m\n",
            "\u001b[0;31mAxisError\u001b[0m: axis 1 is out of bounds for array of dimension 1"
          ]
        }
      ]
    },
    {
      "cell_type": "code",
      "metadata": {
        "id": "KOaSdyXRIHch",
        "colab_type": "code",
        "outputId": "a49efb62-69f0-4723-ddfa-1c280524084b",
        "colab": {
          "base_uri": "https://localhost:8080/",
          "height": 549
        }
      },
      "source": [
        "print(type(y_test))\n",
        "print(type(y_pred))\n",
        "print(y_pred.dtype)\n",
        "print(y_test.dtype)\n",
        "print(y_test[0:5])\n",
        "print(y_pred[0:5])\n",
        "print(probabs[0:5])\n",
        "y_pred=np.argmax(probabs, axis=1)\n",
        "print(y_pred[0:5])\n",
        "plot_cmat(y_test,y_pred)"
      ],
      "execution_count": 0,
      "outputs": [
        {
          "output_type": "stream",
          "text": [
            "<class 'numpy.ndarray'>\n",
            "<class 'numpy.ndarray'>\n",
            "int64\n",
            "float64\n",
            "[1. 0. 1. 1. 0.]\n",
            "[0 0 1 1 0]\n",
            "[[5.5960792e-01 4.4039214e-01]\n",
            " [9.9862003e-01 1.3800039e-03]\n",
            " [1.1733598e-05 9.9998832e-01]\n",
            " [9.1131866e-02 9.0886807e-01]\n",
            " [9.9997878e-01 2.1180282e-05]]\n",
            "[0 0 1 1 0]\n"
          ],
          "name": "stdout"
        },
        {
          "output_type": "stream",
          "text": [
            "/usr/local/lib/python3.6/dist-packages/sklearn/utils/deprecation.py:87: FutureWarning: Function plot_confusion_matrix is deprecated; This will be removed in v0.4.0. Please use scikitplot.metrics.plot_confusion_matrix instead.\n",
            "  warnings.warn(msg, category=FutureWarning)\n"
          ],
          "name": "stderr"
        },
        {
          "output_type": "display_data",
          "data": {
            "image/png": "[encoded data removed]",
            "text/plain": [
              "<Figure size 432x288 with 2 Axes>"
            ]
          },
          "metadata": {
            "tags": [],
            "needs_background": "light"
          }
        }
      ]
    },
    {
      "cell_type": "code",
      "metadata": {
        "id": "5hwqqFd1ISWE",
        "colab_type": "code",
        "colab": {}
      },
      "source": [
        ""
      ],
      "execution_count": 0,
      "outputs": []
    }
  ]
}